{
 "cells": [
  {
   "cell_type": "code",
   "execution_count": 1,
   "id": "9359e225-4ce1-4aa1-a71c-0cada7f61e25",
   "metadata": {},
   "outputs": [
    {
     "name": "stdout",
     "output_type": "stream",
     "text": [
      "Model and encoders saved successfully.\n"
     ]
    }
   ],
   "source": [
    "import pandas as pd\n",
    "import pickle\n",
    "from sklearn.preprocessing import LabelEncoder\n",
    "from sklearn.ensemble import IsolationForest\n",
    "\n",
    "# Load data\n",
    "df = pd.read_csv(\"fraudshield_dataset.csv\")\n",
    "\n",
    "# Encode categorical columns\n",
    "categorical_cols = ['device_type', 'transaction_time', 'location']\n",
    "encoders = {}\n",
    "\n",
    "for col in categorical_cols:\n",
    "    le = LabelEncoder()\n",
    "    df[col] = le.fit_transform(df[col])\n",
    "    encoders[col] = le\n",
    "\n",
    "# Train Isolation Forest (unsupervised anomaly detection)\n",
    "model = IsolationForest(contamination=0.1, random_state=42)\n",
    "model.fit(df)\n",
    "\n",
    "# Save model and encoders\n",
    "with open(\"fraudshield_model.pkl\", \"wb\") as f:\n",
    "    pickle.dump(model, f)\n",
    "\n",
    "with open(\"fraudshield_encoders.pkl\", \"wb\") as f:\n",
    "    pickle.dump(encoders, f)\n",
    "\n",
    "print(\"Model and encoders saved successfully.\")\n"
   ]
  },
  {
   "cell_type": "code",
   "execution_count": null,
   "id": "88441115-f0f0-44bc-bc1b-5decc0e0383d",
   "metadata": {},
   "outputs": [],
   "source": []
  }
 ],
 "metadata": {
  "kernelspec": {
   "display_name": "Python 3 (ipykernel)",
   "language": "python",
   "name": "python3"
  },
  "language_info": {
   "codemirror_mode": {
    "name": "ipython",
    "version": 3
   },
   "file_extension": ".py",
   "mimetype": "text/x-python",
   "name": "python",
   "nbconvert_exporter": "python",
   "pygments_lexer": "ipython3",
   "version": "3.12.7"
  }
 },
 "nbformat": 4,
 "nbformat_minor": 5
}
